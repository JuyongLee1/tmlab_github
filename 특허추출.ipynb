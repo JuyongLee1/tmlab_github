{
  "nbformat": 4,
  "nbformat_minor": 0,
  "metadata": {
    "colab": {
      "provenance": [],
      "authorship_tag": "ABX9TyP+qHy6WWpt051JsjvpYjZS",
      "include_colab_link": true
    },
    "kernelspec": {
      "name": "python3",
      "display_name": "Python 3"
    },
    "language_info": {
      "name": "python"
    }
  },
  "cells": [
    {
      "cell_type": "markdown",
      "metadata": {
        "id": "view-in-github",
        "colab_type": "text"
      },
      "source": [
        "<a href=\"https://colab.research.google.com/github/JuyongLee1/tmlab_github/blob/main/%ED%8A%B9%ED%97%88%EC%B6%94%EC%B6%9C.ipynb\" target=\"_parent\"><img src=\"https://colab.research.google.com/assets/colab-badge.svg\" alt=\"Open In Colab\"/></a>"
      ]
    },
    {
      "cell_type": "code",
      "execution_count": null,
      "metadata": {
        "id": "MdTYkjBG8vaz"
      },
      "outputs": [],
      "source": [
        "# 필요한 패키지 가져오기\n",
        "import pandas as pd\n",
        "import requests\n",
        "import progressbar\n",
        "import time\n",
        "import os\n",
        "from os.path import join\n",
        "from bs4 import BeautifulSoup\n",
        "import pickle"
      ]
    },
    {
      "cell_type": "code",
      "source": [
        "from google.colab import drive\n",
        "drive.mount('/content/drive')\n",
        "script_path = \"/content/drive/My Drive\""
      ],
      "metadata": {
        "colab": {
          "base_uri": "https://localhost:8080/"
        },
        "id": "J9Nj5eio-HZ5",
        "outputId": "499a79d0-6276-40dc-b7b6-0e58a3ecc1a8"
      },
      "execution_count": null,
      "outputs": [
        {
          "output_type": "stream",
          "name": "stdout",
          "text": [
            "Mounted at /content/drive\n"
          ]
        }
      ]
    },
    {
      "cell_type": "code",
      "source": [
        "# search-gp.csv 파일을 데이터프레임으로 불러오기\n",
        "search_df = pd.read_csv(join(script_path, 'gp-search-20230810-052855.csv'), skiprows=[0])\n"
      ],
      "metadata": {
        "id": "WHXADleSAHLB"
      },
      "execution_count": null,
      "outputs": []
    },
    {
      "cell_type": "code",
      "source": [
        "# 이 부분은 코드에 재개 기능을 추가합니다. 이전 실행의 결과를 코드 경로에서 불러와 결과의 마지막 인덱스에서부터 search-gp.csv를 슬라이싱합니다.\n",
        "if os.path.isfile(join(script_path, 'patents_data1.csv')):\n",
        "    result = pd.read_csv(join(script_path, 'patents_data1.csv'), index_col=0)\n",
        "    search_df = search_df.loc[result.index[-1] + 1:, :]\n",
        "else:\n",
        "    result = pd.DataFrame(columns=['ID', 'Title', 'Abstract', 'Description', 'Claims', 'Inventors', 'Current Assignee', 'Patent Office', 'Publication Date', 'URL'])\n",
        "\n",
        "# 스크랩되지 않은 링크 목록을 불러옵니다.\n",
        "if os.path.isfile(join(script_path, 'not_scrap_pickle1')):\n",
        "    with open(join(script_path, 'not_scrap_pickle1'), 'rb') as fp:\n",
        "        not_scraped = pickle.load(fp)\n",
        "else:\n",
        "    not_scraped = []"
      ],
      "metadata": {
        "id": "eL50zrauAM1f"
      },
      "execution_count": null,
      "outputs": []
    },
    {
      "cell_type": "code",
      "source": [
        "# 각 요청에 대해 Google 서버로 전송할 사용자 에이전트 설정\n",
        "h = {'User-Agent': 'Mozilla/5.0 (Windows NT 10.0; Win64; x64) AppleWebKit/537.36 (KHTML, like Gecko) Chrome/115.0.0.0 Safari/537.36'}\n",
        "# h = {'User-Agent': 'Mozilla/5.0 (Windows NT 10.0; Win64; x64) AppleWebKit/537.36 (KHTML, like Gecko) Chrome/115.0.0.0 Safari/537.36'}"
      ],
      "metadata": {
        "id": "w2e9jjWaAN32"
      },
      "execution_count": null,
      "outputs": []
    },
    {
      "cell_type": "code",
      "source": [
        "# search-gp.csv의 각 행을 반복하면서 서버에 요청을 보냅니다.\n",
        "for (index, row), i in zip(search_df.iterrows(), progressbar.progressbar(range(len(search_df)))):\n",
        "    link = row['result link']\n",
        "    # Google Patents로 요청을 보내고 특허 페이지의 소스를 스크랩합니다.\n",
        "    try:\n",
        "        r = requests.get(link, headers=h)\n",
        "    except requests.exceptions.ConnectionError as e:\n",
        "        not_scraped.append(link)\n",
        "        print(e, '\\n\\n')\n",
        "        # 에러 비율이 20% 이상인 경우 프로그램을 종료합니다.\n",
        "        if len(not_scraped) / int(index) >= 0.2:\n",
        "            print('\\n요청 중 절반 이상이 에러로 인해 실패했습니다. 이유를 확인하려면 출력 내용을 읽어보세요.\\n')\n",
        "            break\n",
        "        continue\n",
        "    # BeautifulSoup을 사용하여 HTML에서 정보 추출\n",
        "    bs = BeautifulSoup(r.content, 'html.parser')\n",
        "\n",
        "    abst = bs.find('section', {'itemprop': 'abstract'})\n",
        "    # 요약이 없는 경우 처리\n",
        "    if abst is not None:\n",
        "        # 요약에 비영어 문단이 있는 경우 처리\n",
        "        if abst.find('span', class_='notranslate') is None:\n",
        "            abst = abst.text.strip()\n",
        "        else:\n",
        "            notranslate = [tag.find(class_='google-src-text') for tag in abst.find_all('span', class_='notranslate')]\n",
        "            for tag in notranslate:\n",
        "                tag.extract()\n",
        "            abst = abst.text.strip()\n",
        "    else:\n",
        "        abst = 'Not Found'\n",
        "\n",
        "    # 클레임 섹션 찾기\n",
        "    claims = bs.find('section', {'itemprop': 'claims'})\n",
        "    # 클레임이 없는 경우 처리\n",
        "    if claims is not None:\n",
        "        # 클레임에 비영어 문단이 있는 경우 처리\n",
        "        if claims.find('span', class_='notranslate') is None:\n",
        "            claims = claims.text.strip()\n",
        "        else:\n",
        "            notranslate = [tag.find(class_='google-src-text') for tag in claims.find_all('span', class_='notranslate')]\n",
        "            for tag in notranslate:\n",
        "                tag.extract()\n",
        "            claims = claims.text.strip()\n",
        "    else:\n",
        "        claims = 'Not Found'\n",
        "\n",
        "     # 결과 데이터프레임에 정보 추가\n",
        "    result.at[index, 'ID'] = search_df.at[index, 'id']\n",
        "    result.at[index, 'Title'] = search_df.at[index, 'title']\n",
        "    result.at[index, 'Abstract'] = abst\n",
        "    result.at[index, 'Claims'] = claims\n",
        "    result.at[index, 'URL'] = search_df.at[index, 'result link']\n",
        "\n",
        "    # 결과 데이터프레임과 스크랩되지 않은 링크 목록을 5번 반복할 때마다 저장합니다.\n",
        "    #if i % 5 == 0:\n",
        "    # result.to_csv(join(script_path, 'patents_data.csv'))\n",
        "   #  with open(join(script_path, 'not_scrap_pickle'), 'wb') as fp:\n",
        "   #     pickle.dump(not_scraped, fp)\n",
        "    # Google 차단을 피하기 위해 10번 반복할 때마다 5초 동안 대기합니다.\n",
        "    #if i % 10 == 0 and i != 0:\n",
        "       # time.sleep(5)\n",
        "\n",
        "# 결과 데이터프레임과 스크랩되지 않은 링크 목록을 최종 저장합니다.\n",
        "result.to_csv(join(script_path, 'patents_data1.csv'))\n",
        "with open(join(script_path, 'not_scrap_pickle1'), 'wb') as fp:\n",
        "    pickle.dump(not_scraped, fp)\n"
      ],
      "metadata": {
        "colab": {
          "base_uri": "https://localhost:8080/"
        },
        "id": "X_sJ4NLeolWz",
        "outputId": "e3a7faaf-b37d-4910-c1e4-57816da6921b"
      },
      "execution_count": null,
      "outputs": [
        {
          "output_type": "stream",
          "name": "stderr",
          "text": [
            " 99% (2344 of 2345) |################### | Elapsed Time: 0:19:34 ETA:   0:00:00"
          ]
        }
      ]
    },
    {
      "cell_type": "code",
      "source": [
        "# search-gp.csv의 각 행을 반복하면서 서버에 요청을 보냅니다.\n",
        "for (index, row), i in zip(search_df.iterrows(), progressbar.progressbar(range(len(search_df)))):\n",
        "    link = row['result link']\n",
        "    # Google Patents로 요청을 보내고 특허 페이지의 소스를 스크랩합니다.\n",
        "    try:\n",
        "        r = requests.get(link, headers=h)\n",
        "    except requests.exceptions.ConnectionError as e:\n",
        "        not_scraped.append(link)\n",
        "        print(e, '\\n\\n')\n",
        "        # 에러 비율이 20% 이상인 경우 프로그램을 종료합니다.\n",
        "        if len(not_scraped) / int(index) >= 0.2:\n",
        "            print('\\n요청 중 절반 이상이 에러로 인해 실패했습니다. 이유를 확인하려면 출력 내용을 읽어보세요.\\n')\n",
        "            break\n",
        "        continue\n",
        "    # BeautifulSoup을 사용하여 HTML에서 정보 추출\n",
        "    bs = BeautifulSoup(r.content, 'html.parser')\n",
        "    # 클레임 섹션 찾기\n",
        "    claims = bs.find('section', {'itemprop': 'claims'})\n",
        "    # 클레임이 없는 경우 처리\n",
        "    if claims is not None:\n",
        "        # 클레임에 비영어 문단이 있는 경우 처리\n",
        "        if claims.find('span', class_='notranslate') is None:\n",
        "            claims = claims.text.strip()\n",
        "        else:\n",
        "            notranslate = [tag.find(class_='google-src-text') for tag in claims.find_all('span', class_='notranslate')]\n",
        "            for tag in notranslate:\n",
        "                tag.extract()\n",
        "            claims = claims.text.strip()\n",
        "    else:\n",
        "        claims = 'Not Found'\n",
        "\n",
        "    desc = bs.find('section', {'itemprop': 'description'})\n",
        "    # 설명이 없는 경우 처리\n",
        "    if desc is not None:\n",
        "        # 설명에 비영어 문단이 있는 경우 처리\n",
        "        if desc.find('span', class_='notranslate') is None:\n",
        "            desc = desc.text.strip()\n",
        "        else:\n",
        "            notranslate = [tag.find(class_='google-src-text') for tag in desc.find_all('span', class_='notranslate')]\n",
        "            for tag in notranslate:\n",
        "                tag.extract()\n",
        "            desc = desc.text.strip()\n",
        "    else:\n",
        "        desc = 'Not Found'\n",
        "\n",
        "    abst = bs.find('section', {'itemprop': 'abstract'})\n",
        "    # 요약이 없는 경우 처리\n",
        "    if abst is not None:\n",
        "        # 요약에 비영어 문단이 있는 경우 처리\n",
        "        if abst.find('span', class_='notranslate') is None:\n",
        "            abst = abst.text.strip()\n",
        "        else:\n",
        "            notranslate = [tag.find(class_='google-src-text') for tag in abst.find_all('span', class_='notranslate')]\n",
        "            for tag in notranslate:\n",
        "                tag.extract()\n",
        "            abst = abst.text.strip()\n",
        "    else:\n",
        "        abst = 'Not Found'\n",
        "\n",
        "    patent_office = bs.find('dd', {'itemprop': 'countryName'})\n",
        "    # 특허청 이름이 없는 경우 처리\n",
        "    if patent_office is None:\n",
        "        patent_office = 'Not Found'\n",
        "    else:\n",
        "        patent_office = patent_office.text\n",
        "\n",
        "     # 결과 데이터프레임에 정보 추가\n",
        "    result.at[index, 'ID'] = search_df.at[index, 'id']\n",
        "    result.at[index, 'Title'] = search_df.at[index, 'title']\n",
        "    result.at[index, 'Abstract'] = abst\n",
        "    result.at[index, 'Description'] = desc\n",
        "    result.at[index, 'Claims'] = claims\n",
        "    result.at[index, 'Inventors'] = search_df.at[index, 'inventor/author']\n",
        "    result.at[index, 'Current Assignee'] = search_df.at[index, 'assignee']\n",
        "    result.at[index, 'Publication Date'] = search_df.at[index, 'publication date']\n",
        "    result.at[index, 'Patent Office'] = patent_office\n",
        "    result.at[index, 'URL'] = search_df.at[index, 'result link']\n",
        "\n",
        "    # 결과 데이터프레임과 스크랩되지 않은 링크 목록을 5번 반복할 때마다 저장합니다.\n",
        "    if i % 5 == 0:\n",
        "     result.to_csv(join(script_path, 'patents_data.csv'))\n",
        "     with open(join(script_path, 'not_scrap_pickle'), 'wb') as fp:\n",
        "        pickle.dump(not_scraped, fp)\n",
        "    # Google 차단을 피하기 위해 10번 반복할 때마다 5초 동안 대기합니다.\n",
        "    if i % 10 == 0 and i != 0:\n",
        "        time.sleep(5)\n",
        "\n",
        "# 결과 데이터프레임과 스크랩되지 않은 링크 목록을 최종 저장합니다.\n",
        "result.to_csv(join(script_path, 'patents_data.csv'))\n",
        "with open(join(script_path, 'not_scrap_pickle'), 'wb') as fp:\n",
        "    pickle.dump(not_scraped, fp)\n"
      ],
      "metadata": {
        "colab": {
          "base_uri": "https://localhost:8080/",
          "height": 410
        },
        "id": "JBavOH7QAU2I",
        "outputId": "7faef49d-4636-4aca-ef07-cbc4f0b3af12"
      },
      "execution_count": null,
      "outputs": [
        {
          "output_type": "stream",
          "name": "stderr",
          "text": [
            " 83% (1965 of 2345) |################    | Elapsed Time: 0:33:17 ETA:   0:10:27"
          ]
        },
        {
          "output_type": "error",
          "ename": "KeyboardInterrupt",
          "evalue": "ignored",
          "traceback": [
            "\u001b[0;31m---------------------------------------------------------------------------\u001b[0m",
            "\u001b[0;31mKeyboardInterrupt\u001b[0m                         Traceback (most recent call last)",
            "\u001b[0;32m<ipython-input-6-3f73936df77e>\u001b[0m in \u001b[0;36m<cell line: 2>\u001b[0;34m()\u001b[0m\n\u001b[1;32m      4\u001b[0m     \u001b[0;31m# Google Patents로 요청을 보내고 특허 페이지의 소스를 스크랩합니다.\u001b[0m\u001b[0;34m\u001b[0m\u001b[0;34m\u001b[0m\u001b[0m\n\u001b[1;32m      5\u001b[0m     \u001b[0;32mtry\u001b[0m\u001b[0;34m:\u001b[0m\u001b[0;34m\u001b[0m\u001b[0;34m\u001b[0m\u001b[0m\n\u001b[0;32m----> 6\u001b[0;31m         \u001b[0mr\u001b[0m \u001b[0;34m=\u001b[0m \u001b[0mrequests\u001b[0m\u001b[0;34m.\u001b[0m\u001b[0mget\u001b[0m\u001b[0;34m(\u001b[0m\u001b[0mlink\u001b[0m\u001b[0;34m,\u001b[0m \u001b[0mheaders\u001b[0m\u001b[0;34m=\u001b[0m\u001b[0mh\u001b[0m\u001b[0;34m)\u001b[0m\u001b[0;34m\u001b[0m\u001b[0;34m\u001b[0m\u001b[0m\n\u001b[0m\u001b[1;32m      7\u001b[0m     \u001b[0;32mexcept\u001b[0m \u001b[0mrequests\u001b[0m\u001b[0;34m.\u001b[0m\u001b[0mexceptions\u001b[0m\u001b[0;34m.\u001b[0m\u001b[0mConnectionError\u001b[0m \u001b[0;32mas\u001b[0m \u001b[0me\u001b[0m\u001b[0;34m:\u001b[0m\u001b[0;34m\u001b[0m\u001b[0;34m\u001b[0m\u001b[0m\n\u001b[1;32m      8\u001b[0m         \u001b[0mnot_scraped\u001b[0m\u001b[0;34m.\u001b[0m\u001b[0mappend\u001b[0m\u001b[0;34m(\u001b[0m\u001b[0mlink\u001b[0m\u001b[0;34m)\u001b[0m\u001b[0;34m\u001b[0m\u001b[0;34m\u001b[0m\u001b[0m\n",
            "\u001b[0;32m/usr/local/lib/python3.10/dist-packages/requests/api.py\u001b[0m in \u001b[0;36mget\u001b[0;34m(url, params, **kwargs)\u001b[0m\n\u001b[1;32m     71\u001b[0m     \"\"\"\n\u001b[1;32m     72\u001b[0m \u001b[0;34m\u001b[0m\u001b[0m\n\u001b[0;32m---> 73\u001b[0;31m     \u001b[0;32mreturn\u001b[0m \u001b[0mrequest\u001b[0m\u001b[0;34m(\u001b[0m\u001b[0;34m\"get\"\u001b[0m\u001b[0;34m,\u001b[0m \u001b[0murl\u001b[0m\u001b[0;34m,\u001b[0m \u001b[0mparams\u001b[0m\u001b[0;34m=\u001b[0m\u001b[0mparams\u001b[0m\u001b[0;34m,\u001b[0m \u001b[0;34m**\u001b[0m\u001b[0mkwargs\u001b[0m\u001b[0;34m)\u001b[0m\u001b[0;34m\u001b[0m\u001b[0;34m\u001b[0m\u001b[0m\n\u001b[0m\u001b[1;32m     74\u001b[0m \u001b[0;34m\u001b[0m\u001b[0m\n\u001b[1;32m     75\u001b[0m \u001b[0;34m\u001b[0m\u001b[0m\n",
            "\u001b[0;32m/usr/local/lib/python3.10/dist-packages/requests/api.py\u001b[0m in \u001b[0;36mrequest\u001b[0;34m(method, url, **kwargs)\u001b[0m\n\u001b[1;32m     57\u001b[0m     \u001b[0;31m# cases, and look like a memory leak in others.\u001b[0m\u001b[0;34m\u001b[0m\u001b[0;34m\u001b[0m\u001b[0m\n\u001b[1;32m     58\u001b[0m     \u001b[0;32mwith\u001b[0m \u001b[0msessions\u001b[0m\u001b[0;34m.\u001b[0m\u001b[0mSession\u001b[0m\u001b[0;34m(\u001b[0m\u001b[0;34m)\u001b[0m \u001b[0;32mas\u001b[0m \u001b[0msession\u001b[0m\u001b[0;34m:\u001b[0m\u001b[0;34m\u001b[0m\u001b[0;34m\u001b[0m\u001b[0m\n\u001b[0;32m---> 59\u001b[0;31m         \u001b[0;32mreturn\u001b[0m \u001b[0msession\u001b[0m\u001b[0;34m.\u001b[0m\u001b[0mrequest\u001b[0m\u001b[0;34m(\u001b[0m\u001b[0mmethod\u001b[0m\u001b[0;34m=\u001b[0m\u001b[0mmethod\u001b[0m\u001b[0;34m,\u001b[0m \u001b[0murl\u001b[0m\u001b[0;34m=\u001b[0m\u001b[0murl\u001b[0m\u001b[0;34m,\u001b[0m \u001b[0;34m**\u001b[0m\u001b[0mkwargs\u001b[0m\u001b[0;34m)\u001b[0m\u001b[0;34m\u001b[0m\u001b[0;34m\u001b[0m\u001b[0m\n\u001b[0m\u001b[1;32m     60\u001b[0m \u001b[0;34m\u001b[0m\u001b[0m\n\u001b[1;32m     61\u001b[0m \u001b[0;34m\u001b[0m\u001b[0m\n",
            "\u001b[0;32m/usr/local/lib/python3.10/dist-packages/requests/sessions.py\u001b[0m in \u001b[0;36mrequest\u001b[0;34m(self, method, url, params, data, headers, cookies, files, auth, timeout, allow_redirects, proxies, hooks, stream, verify, cert, json)\u001b[0m\n\u001b[1;32m    587\u001b[0m         }\n\u001b[1;32m    588\u001b[0m         \u001b[0msend_kwargs\u001b[0m\u001b[0;34m.\u001b[0m\u001b[0mupdate\u001b[0m\u001b[0;34m(\u001b[0m\u001b[0msettings\u001b[0m\u001b[0;34m)\u001b[0m\u001b[0;34m\u001b[0m\u001b[0;34m\u001b[0m\u001b[0m\n\u001b[0;32m--> 589\u001b[0;31m         \u001b[0mresp\u001b[0m \u001b[0;34m=\u001b[0m \u001b[0mself\u001b[0m\u001b[0;34m.\u001b[0m\u001b[0msend\u001b[0m\u001b[0;34m(\u001b[0m\u001b[0mprep\u001b[0m\u001b[0;34m,\u001b[0m \u001b[0;34m**\u001b[0m\u001b[0msend_kwargs\u001b[0m\u001b[0;34m)\u001b[0m\u001b[0;34m\u001b[0m\u001b[0;34m\u001b[0m\u001b[0m\n\u001b[0m\u001b[1;32m    590\u001b[0m \u001b[0;34m\u001b[0m\u001b[0m\n\u001b[1;32m    591\u001b[0m         \u001b[0;32mreturn\u001b[0m \u001b[0mresp\u001b[0m\u001b[0;34m\u001b[0m\u001b[0;34m\u001b[0m\u001b[0m\n",
            "\u001b[0;32m/usr/local/lib/python3.10/dist-packages/requests/sessions.py\u001b[0m in \u001b[0;36msend\u001b[0;34m(self, request, **kwargs)\u001b[0m\n\u001b[1;32m    701\u001b[0m \u001b[0;34m\u001b[0m\u001b[0m\n\u001b[1;32m    702\u001b[0m         \u001b[0;31m# Send the request\u001b[0m\u001b[0;34m\u001b[0m\u001b[0;34m\u001b[0m\u001b[0m\n\u001b[0;32m--> 703\u001b[0;31m         \u001b[0mr\u001b[0m \u001b[0;34m=\u001b[0m \u001b[0madapter\u001b[0m\u001b[0;34m.\u001b[0m\u001b[0msend\u001b[0m\u001b[0;34m(\u001b[0m\u001b[0mrequest\u001b[0m\u001b[0;34m,\u001b[0m \u001b[0;34m**\u001b[0m\u001b[0mkwargs\u001b[0m\u001b[0;34m)\u001b[0m\u001b[0;34m\u001b[0m\u001b[0;34m\u001b[0m\u001b[0m\n\u001b[0m\u001b[1;32m    704\u001b[0m \u001b[0;34m\u001b[0m\u001b[0m\n\u001b[1;32m    705\u001b[0m         \u001b[0;31m# Total elapsed time of the request (approximately)\u001b[0m\u001b[0;34m\u001b[0m\u001b[0;34m\u001b[0m\u001b[0m\n",
            "\u001b[0;32m/usr/local/lib/python3.10/dist-packages/requests/adapters.py\u001b[0m in \u001b[0;36msend\u001b[0;34m(self, request, stream, timeout, verify, cert, proxies)\u001b[0m\n\u001b[1;32m    484\u001b[0m \u001b[0;34m\u001b[0m\u001b[0m\n\u001b[1;32m    485\u001b[0m         \u001b[0;32mtry\u001b[0m\u001b[0;34m:\u001b[0m\u001b[0;34m\u001b[0m\u001b[0;34m\u001b[0m\u001b[0m\n\u001b[0;32m--> 486\u001b[0;31m             resp = conn.urlopen(\n\u001b[0m\u001b[1;32m    487\u001b[0m                 \u001b[0mmethod\u001b[0m\u001b[0;34m=\u001b[0m\u001b[0mrequest\u001b[0m\u001b[0;34m.\u001b[0m\u001b[0mmethod\u001b[0m\u001b[0;34m,\u001b[0m\u001b[0;34m\u001b[0m\u001b[0;34m\u001b[0m\u001b[0m\n\u001b[1;32m    488\u001b[0m                 \u001b[0murl\u001b[0m\u001b[0;34m=\u001b[0m\u001b[0murl\u001b[0m\u001b[0;34m,\u001b[0m\u001b[0;34m\u001b[0m\u001b[0;34m\u001b[0m\u001b[0m\n",
            "\u001b[0;32m/usr/local/lib/python3.10/dist-packages/urllib3/connectionpool.py\u001b[0m in \u001b[0;36murlopen\u001b[0;34m(self, method, url, body, headers, retries, redirect, assert_same_host, timeout, pool_timeout, release_conn, chunked, body_pos, **response_kw)\u001b[0m\n\u001b[1;32m    712\u001b[0m \u001b[0;34m\u001b[0m\u001b[0m\n\u001b[1;32m    713\u001b[0m             \u001b[0;31m# Make the request on the httplib connection object.\u001b[0m\u001b[0;34m\u001b[0m\u001b[0;34m\u001b[0m\u001b[0m\n\u001b[0;32m--> 714\u001b[0;31m             httplib_response = self._make_request(\n\u001b[0m\u001b[1;32m    715\u001b[0m                 \u001b[0mconn\u001b[0m\u001b[0;34m,\u001b[0m\u001b[0;34m\u001b[0m\u001b[0;34m\u001b[0m\u001b[0m\n\u001b[1;32m    716\u001b[0m                 \u001b[0mmethod\u001b[0m\u001b[0;34m,\u001b[0m\u001b[0;34m\u001b[0m\u001b[0;34m\u001b[0m\u001b[0m\n",
            "\u001b[0;32m/usr/local/lib/python3.10/dist-packages/urllib3/connectionpool.py\u001b[0m in \u001b[0;36m_make_request\u001b[0;34m(self, conn, method, url, timeout, chunked, **httplib_request_kw)\u001b[0m\n\u001b[1;32m    401\u001b[0m         \u001b[0;31m# Trigger any extra validation we need to do.\u001b[0m\u001b[0;34m\u001b[0m\u001b[0;34m\u001b[0m\u001b[0m\n\u001b[1;32m    402\u001b[0m         \u001b[0;32mtry\u001b[0m\u001b[0;34m:\u001b[0m\u001b[0;34m\u001b[0m\u001b[0;34m\u001b[0m\u001b[0m\n\u001b[0;32m--> 403\u001b[0;31m             \u001b[0mself\u001b[0m\u001b[0;34m.\u001b[0m\u001b[0m_validate_conn\u001b[0m\u001b[0;34m(\u001b[0m\u001b[0mconn\u001b[0m\u001b[0;34m)\u001b[0m\u001b[0;34m\u001b[0m\u001b[0;34m\u001b[0m\u001b[0m\n\u001b[0m\u001b[1;32m    404\u001b[0m         \u001b[0;32mexcept\u001b[0m \u001b[0;34m(\u001b[0m\u001b[0mSocketTimeout\u001b[0m\u001b[0;34m,\u001b[0m \u001b[0mBaseSSLError\u001b[0m\u001b[0;34m)\u001b[0m \u001b[0;32mas\u001b[0m \u001b[0me\u001b[0m\u001b[0;34m:\u001b[0m\u001b[0;34m\u001b[0m\u001b[0;34m\u001b[0m\u001b[0m\n\u001b[1;32m    405\u001b[0m             \u001b[0;31m# Py2 raises this as a BaseSSLError, Py3 raises it as socket timeout.\u001b[0m\u001b[0;34m\u001b[0m\u001b[0;34m\u001b[0m\u001b[0m\n",
            "\u001b[0;32m/usr/local/lib/python3.10/dist-packages/urllib3/connectionpool.py\u001b[0m in \u001b[0;36m_validate_conn\u001b[0;34m(self, conn)\u001b[0m\n\u001b[1;32m   1051\u001b[0m         \u001b[0;31m# Force connect early to allow us to validate the connection.\u001b[0m\u001b[0;34m\u001b[0m\u001b[0;34m\u001b[0m\u001b[0m\n\u001b[1;32m   1052\u001b[0m         \u001b[0;32mif\u001b[0m \u001b[0;32mnot\u001b[0m \u001b[0mgetattr\u001b[0m\u001b[0;34m(\u001b[0m\u001b[0mconn\u001b[0m\u001b[0;34m,\u001b[0m \u001b[0;34m\"sock\"\u001b[0m\u001b[0;34m,\u001b[0m \u001b[0;32mNone\u001b[0m\u001b[0;34m)\u001b[0m\u001b[0;34m:\u001b[0m  \u001b[0;31m# AppEngine might not have  `.sock`\u001b[0m\u001b[0;34m\u001b[0m\u001b[0;34m\u001b[0m\u001b[0m\n\u001b[0;32m-> 1053\u001b[0;31m             \u001b[0mconn\u001b[0m\u001b[0;34m.\u001b[0m\u001b[0mconnect\u001b[0m\u001b[0;34m(\u001b[0m\u001b[0;34m)\u001b[0m\u001b[0;34m\u001b[0m\u001b[0;34m\u001b[0m\u001b[0m\n\u001b[0m\u001b[1;32m   1054\u001b[0m \u001b[0;34m\u001b[0m\u001b[0m\n\u001b[1;32m   1055\u001b[0m         \u001b[0;32mif\u001b[0m \u001b[0;32mnot\u001b[0m \u001b[0mconn\u001b[0m\u001b[0;34m.\u001b[0m\u001b[0mis_verified\u001b[0m\u001b[0;34m:\u001b[0m\u001b[0;34m\u001b[0m\u001b[0;34m\u001b[0m\u001b[0m\n",
            "\u001b[0;32m/usr/local/lib/python3.10/dist-packages/urllib3/connection.py\u001b[0m in \u001b[0;36mconnect\u001b[0;34m(self)\u001b[0m\n\u001b[1;32m    361\u001b[0m     \u001b[0;32mdef\u001b[0m \u001b[0mconnect\u001b[0m\u001b[0;34m(\u001b[0m\u001b[0mself\u001b[0m\u001b[0;34m)\u001b[0m\u001b[0;34m:\u001b[0m\u001b[0;34m\u001b[0m\u001b[0;34m\u001b[0m\u001b[0m\n\u001b[1;32m    362\u001b[0m         \u001b[0;31m# Add certificate verification\u001b[0m\u001b[0;34m\u001b[0m\u001b[0;34m\u001b[0m\u001b[0m\n\u001b[0;32m--> 363\u001b[0;31m         \u001b[0mself\u001b[0m\u001b[0;34m.\u001b[0m\u001b[0msock\u001b[0m \u001b[0;34m=\u001b[0m \u001b[0mconn\u001b[0m \u001b[0;34m=\u001b[0m \u001b[0mself\u001b[0m\u001b[0;34m.\u001b[0m\u001b[0m_new_conn\u001b[0m\u001b[0;34m(\u001b[0m\u001b[0;34m)\u001b[0m\u001b[0;34m\u001b[0m\u001b[0;34m\u001b[0m\u001b[0m\n\u001b[0m\u001b[1;32m    364\u001b[0m         \u001b[0mhostname\u001b[0m \u001b[0;34m=\u001b[0m \u001b[0mself\u001b[0m\u001b[0;34m.\u001b[0m\u001b[0mhost\u001b[0m\u001b[0;34m\u001b[0m\u001b[0;34m\u001b[0m\u001b[0m\n\u001b[1;32m    365\u001b[0m         \u001b[0mtls_in_tls\u001b[0m \u001b[0;34m=\u001b[0m \u001b[0;32mFalse\u001b[0m\u001b[0;34m\u001b[0m\u001b[0;34m\u001b[0m\u001b[0m\n",
            "\u001b[0;32m/usr/local/lib/python3.10/dist-packages/urllib3/connection.py\u001b[0m in \u001b[0;36m_new_conn\u001b[0;34m(self)\u001b[0m\n\u001b[1;32m    172\u001b[0m \u001b[0;34m\u001b[0m\u001b[0m\n\u001b[1;32m    173\u001b[0m         \u001b[0;32mtry\u001b[0m\u001b[0;34m:\u001b[0m\u001b[0;34m\u001b[0m\u001b[0;34m\u001b[0m\u001b[0m\n\u001b[0;32m--> 174\u001b[0;31m             conn = connection.create_connection(\n\u001b[0m\u001b[1;32m    175\u001b[0m                 \u001b[0;34m(\u001b[0m\u001b[0mself\u001b[0m\u001b[0;34m.\u001b[0m\u001b[0m_dns_host\u001b[0m\u001b[0;34m,\u001b[0m \u001b[0mself\u001b[0m\u001b[0;34m.\u001b[0m\u001b[0mport\u001b[0m\u001b[0;34m)\u001b[0m\u001b[0;34m,\u001b[0m \u001b[0mself\u001b[0m\u001b[0;34m.\u001b[0m\u001b[0mtimeout\u001b[0m\u001b[0;34m,\u001b[0m \u001b[0;34m**\u001b[0m\u001b[0mextra_kw\u001b[0m\u001b[0;34m\u001b[0m\u001b[0;34m\u001b[0m\u001b[0m\n\u001b[1;32m    176\u001b[0m             )\n",
            "\u001b[0;32m/usr/local/lib/python3.10/dist-packages/urllib3/util/connection.py\u001b[0m in \u001b[0;36mcreate_connection\u001b[0;34m(address, timeout, source_address, socket_options)\u001b[0m\n\u001b[1;32m     70\u001b[0m         )\n\u001b[1;32m     71\u001b[0m \u001b[0;34m\u001b[0m\u001b[0m\n\u001b[0;32m---> 72\u001b[0;31m     \u001b[0;32mfor\u001b[0m \u001b[0mres\u001b[0m \u001b[0;32min\u001b[0m \u001b[0msocket\u001b[0m\u001b[0;34m.\u001b[0m\u001b[0mgetaddrinfo\u001b[0m\u001b[0;34m(\u001b[0m\u001b[0mhost\u001b[0m\u001b[0;34m,\u001b[0m \u001b[0mport\u001b[0m\u001b[0;34m,\u001b[0m \u001b[0mfamily\u001b[0m\u001b[0;34m,\u001b[0m \u001b[0msocket\u001b[0m\u001b[0;34m.\u001b[0m\u001b[0mSOCK_STREAM\u001b[0m\u001b[0;34m)\u001b[0m\u001b[0;34m:\u001b[0m\u001b[0;34m\u001b[0m\u001b[0;34m\u001b[0m\u001b[0m\n\u001b[0m\u001b[1;32m     73\u001b[0m         \u001b[0maf\u001b[0m\u001b[0;34m,\u001b[0m \u001b[0msocktype\u001b[0m\u001b[0;34m,\u001b[0m \u001b[0mproto\u001b[0m\u001b[0;34m,\u001b[0m \u001b[0mcanonname\u001b[0m\u001b[0;34m,\u001b[0m \u001b[0msa\u001b[0m \u001b[0;34m=\u001b[0m \u001b[0mres\u001b[0m\u001b[0;34m\u001b[0m\u001b[0;34m\u001b[0m\u001b[0m\n\u001b[1;32m     74\u001b[0m         \u001b[0msock\u001b[0m \u001b[0;34m=\u001b[0m \u001b[0;32mNone\u001b[0m\u001b[0;34m\u001b[0m\u001b[0;34m\u001b[0m\u001b[0m\n",
            "\u001b[0;32m/usr/lib/python3.10/socket.py\u001b[0m in \u001b[0;36mgetaddrinfo\u001b[0;34m(host, port, family, type, proto, flags)\u001b[0m\n\u001b[1;32m    953\u001b[0m     \u001b[0;31m# and socket type values to enum constants.\u001b[0m\u001b[0;34m\u001b[0m\u001b[0;34m\u001b[0m\u001b[0m\n\u001b[1;32m    954\u001b[0m     \u001b[0maddrlist\u001b[0m \u001b[0;34m=\u001b[0m \u001b[0;34m[\u001b[0m\u001b[0;34m]\u001b[0m\u001b[0;34m\u001b[0m\u001b[0;34m\u001b[0m\u001b[0m\n\u001b[0;32m--> 955\u001b[0;31m     \u001b[0;32mfor\u001b[0m \u001b[0mres\u001b[0m \u001b[0;32min\u001b[0m \u001b[0m_socket\u001b[0m\u001b[0;34m.\u001b[0m\u001b[0mgetaddrinfo\u001b[0m\u001b[0;34m(\u001b[0m\u001b[0mhost\u001b[0m\u001b[0;34m,\u001b[0m \u001b[0mport\u001b[0m\u001b[0;34m,\u001b[0m \u001b[0mfamily\u001b[0m\u001b[0;34m,\u001b[0m \u001b[0mtype\u001b[0m\u001b[0;34m,\u001b[0m \u001b[0mproto\u001b[0m\u001b[0;34m,\u001b[0m \u001b[0mflags\u001b[0m\u001b[0;34m)\u001b[0m\u001b[0;34m:\u001b[0m\u001b[0;34m\u001b[0m\u001b[0;34m\u001b[0m\u001b[0m\n\u001b[0m\u001b[1;32m    956\u001b[0m         \u001b[0maf\u001b[0m\u001b[0;34m,\u001b[0m \u001b[0msocktype\u001b[0m\u001b[0;34m,\u001b[0m \u001b[0mproto\u001b[0m\u001b[0;34m,\u001b[0m \u001b[0mcanonname\u001b[0m\u001b[0;34m,\u001b[0m \u001b[0msa\u001b[0m \u001b[0;34m=\u001b[0m \u001b[0mres\u001b[0m\u001b[0;34m\u001b[0m\u001b[0;34m\u001b[0m\u001b[0m\n\u001b[1;32m    957\u001b[0m         addrlist.append((_intenum_converter(af, AddressFamily),\n",
            "\u001b[0;31mKeyboardInterrupt\u001b[0m: "
          ]
        }
      ]
    }
  ]
}